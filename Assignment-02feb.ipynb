{
 "cells": [
  {
   "cell_type": "markdown",
   "id": "0f79182c-605d-4f83-bd7c-dee46fe5fa1c",
   "metadata": {},
   "source": [
    "Q1-Explain with an example each when to use a for loop and a while loop."
   ]
  },
  {
   "cell_type": "markdown",
   "id": "8e8af3fe-1573-466b-95e6-dd1549db56bd",
   "metadata": {},
   "source": [
    "Ans(1)-"
   ]
  },
  {
   "cell_type": "markdown",
   "id": "f8dfde25-07d8-4f11-8a1c-0ca3a65b2fe7",
   "metadata": {},
   "source": [
    "A for loop is used to iterate over a sequence (such as a list, tuple, or string) and execute a block of code for each item in the sequence. On the other hand, a while loop is used to repeatedly execute a block of code as long as a given condition is true.\n",
    "\n",
    "Here's an example of using a for loop to print each item in a list:"
   ]
  },
  {
   "cell_type": "code",
   "execution_count": 3,
   "id": "841e4320-b18c-480e-84ca-109315318a8f",
   "metadata": {},
   "outputs": [
    {
     "name": "stdout",
     "output_type": "stream",
     "text": [
      "apple\n",
      "banana\n",
      "cherry\n"
     ]
    }
   ],
   "source": [
    "fruits = [\"apple\", \"banana\", \"cherry\"]\n",
    "for fruit in fruits:\n",
    "    print(fruit)\n"
   ]
  },
  {
   "cell_type": "markdown",
   "id": "d5b257f0-8a1a-477c-8e0f-a943652a9d40",
   "metadata": {},
   "source": [
    "And here's an example of using a while loop to print numbers from 1 to 5:"
   ]
  },
  {
   "cell_type": "code",
   "execution_count": 4,
   "id": "6ac99dce-2029-41be-88bf-63fcc1ceafdd",
   "metadata": {},
   "outputs": [
    {
     "name": "stdout",
     "output_type": "stream",
     "text": [
      "1\n",
      "2\n",
      "3\n",
      "4\n",
      "5\n"
     ]
    }
   ],
   "source": [
    "count = 1\n",
    "while count <= 5:\n",
    "    print(count)\n",
    "    count += 1\n"
   ]
  },
  {
   "cell_type": "markdown",
   "id": "2b5f38de-1311-4a61-a930-9f55e19db804",
   "metadata": {},
   "source": [
    "In this case, the while loop continues to execute as long as count is less than or equal to 5. Once count becomes 6, the condition is false and the loop stops."
   ]
  },
  {
   "cell_type": "markdown",
   "id": "6a30afdd-4f05-465d-b13e-6c5f9a52035a",
   "metadata": {},
   "source": [
    "Q2-Write a python program to print the sum and product of the first 10 natural numbers using for\n",
    "and while loop."
   ]
  },
  {
   "cell_type": "markdown",
   "id": "4ffcfe9e-cff1-4f17-9e1c-6b2d7a773f0b",
   "metadata": {},
   "source": [
    "Ans(2)"
   ]
  },
  {
   "cell_type": "markdown",
   "id": "9fbe4bd9-5823-4f71-b8a0-5d8fef5ad999",
   "metadata": {},
   "source": [
    "Here's an example of printing the sum and product of the first 10 natural numbers using a for loop:"
   ]
  },
  {
   "cell_type": "code",
   "execution_count": 5,
   "id": "7660e276-8ba8-46fc-9cba-52039c51789d",
   "metadata": {},
   "outputs": [
    {
     "name": "stdout",
     "output_type": "stream",
     "text": [
      "The sum of the first 10 natural numbers is: 55\n",
      "The product of the first 10 natural numbers is: 3628800\n"
     ]
    }
   ],
   "source": [
    "sum = 0\n",
    "product = 1\n",
    "for i in range(1, 11):\n",
    "    sum += i\n",
    "    product *= i\n",
    "\n",
    "print(\"The sum of the first 10 natural numbers is:\", sum)\n",
    "print(\"The product of the first 10 natural numbers is:\", product)\n"
   ]
  },
  {
   "cell_type": "markdown",
   "id": "46f115a0-b0c2-41d7-ae2a-67df20a10d32",
   "metadata": {},
   "source": [
    "And here's an equivalent program using a while loop:"
   ]
  },
  {
   "cell_type": "code",
   "execution_count": 6,
   "id": "82f69ffa-27e8-45a6-affd-9d439259b63e",
   "metadata": {},
   "outputs": [
    {
     "name": "stdout",
     "output_type": "stream",
     "text": [
      "The sum of the first 10 natural numbers is: 55\n",
      "The product of the first 10 natural numbers is: 3628800\n"
     ]
    }
   ],
   "source": [
    "sum = 0\n",
    "product = 1\n",
    "i = 1\n",
    "while i <= 10:\n",
    "    sum += i\n",
    "    product *= i\n",
    "    i += 1\n",
    "\n",
    "print(\"The sum of the first 10 natural numbers is:\", sum)\n",
    "print(\"The product of the first 10 natural numbers is:\", product)\n"
   ]
  },
  {
   "cell_type": "markdown",
   "id": "38074c33-97fc-4e16-ac93-1056dcbaeebf",
   "metadata": {},
   "source": [
    "Q3-Create python program to compute the electricity bill for a household.\n",
    "The per-unit charges in rupees are as follows: For the first 100 units, the user will be charged Rs. 4.5 per\n",
    "unit, for the next 100 units, the user will be charged Rs. 6 per unit, and for the next 100 units, the user will\n",
    "be charged Rs. 10 per unit, After 300 units and above the user will be charged Rs. 20 per unit.\n",
    "You are required to take the units of electricity consumed in a month from the user as input.\n",
    "Your program must pass this test case: when the unit of electricity consumed by the user in a month is\n",
    "310, the total electricity bill should be 2250."
   ]
  },
  {
   "cell_type": "code",
   "execution_count": 8,
   "id": "a0712ebd-f9aa-4ca2-8ce2-4b83969d911a",
   "metadata": {},
   "outputs": [
    {
     "name": "stdin",
     "output_type": "stream",
     "text": [
      "Enter the units of electricity consumed:  310\n"
     ]
    },
    {
     "name": "stdout",
     "output_type": "stream",
     "text": [
      "The total electricity bill is: Rs. 2250.0\n"
     ]
    }
   ],
   "source": [
    "units = int(input(\"Enter the units of electricity consumed: \"))\n",
    "if units <= 100:\n",
    "    bill = units * 4.5\n",
    "elif units <= 200:\n",
    "    bill = 100 * 4.5 + (units - 100) * 6\n",
    "elif units <= 300:\n",
    "    bill = 100 * 4.5 + 100 * 6 + (units - 200) * 10\n",
    "else:\n",
    "    bill = 100 * 4.5 + 100 * 6 + 100 * 10 + (units - 300) * 20\n",
    "\n",
    "print(\"The total electricity bill is: Rs.\", bill)\n"
   ]
  },
  {
   "cell_type": "markdown",
   "id": "542046e6-7398-4b46-9eeb-7d9d9a027493",
   "metadata": {},
   "source": [
    "Q4-Create a list of numbers from 1 to 100. Use for loop and while loop to calculate the cube of each\n",
    "number and if the cube of that number is divisible by 4 or 5 then append that number in a list and print\n",
    "that list."
   ]
  },
  {
   "cell_type": "markdown",
   "id": "510bb618-b8fd-42b2-b341-1d4a09865be8",
   "metadata": {},
   "source": [
    "Ans(4)-\n",
    "creating a list of numbers from 1 to 100 and calculating the cube of each number using a for loop:"
   ]
  },
  {
   "cell_type": "code",
   "execution_count": 9,
   "id": "8ff0354c-ac4e-4a06-ada8-6a22e05209e8",
   "metadata": {},
   "outputs": [
    {
     "name": "stdout",
     "output_type": "stream",
     "text": [
      "The list of cubes that are divisible by 4 or 5: [8, 64, 125, 216, 512, 1000, 1728, 2744, 3375, 4096, 5832, 8000, 10648, 13824, 15625, 17576, 21952, 27000, 32768, 39304, 42875, 46656, 54872, 64000, 74088, 85184, 91125, 97336, 110592, 125000, 140608, 157464, 166375, 175616, 195112, 216000, 238328, 262144, 274625, 287496, 314432, 343000, 373248, 405224, 421875, 438976, 474552, 512000, 551368, 592704, 614125, 636056, 681472, 729000, 778688, 830584, 857375, 884736, 941192, 1000000]\n"
     ]
    }
   ],
   "source": [
    "cube_list = []\n",
    "for i in range(1, 101):\n",
    "    cube = i**3\n",
    "    if cube % 4 == 0 or cube % 5 == 0:\n",
    "        cube_list.append(cube)\n",
    "\n",
    "print(\"The list of cubes that are divisible by 4 or 5:\", cube_list)\n"
   ]
  },
  {
   "cell_type": "markdown",
   "id": "d4dab7b6-eb25-4fed-809d-778796f86c82",
   "metadata": {},
   "source": [
    "And here's an equivalent program using a while loop:"
   ]
  },
  {
   "cell_type": "code",
   "execution_count": 10,
   "id": "6331b54e-509f-4ed8-870d-1bf207d3fc11",
   "metadata": {},
   "outputs": [
    {
     "name": "stdout",
     "output_type": "stream",
     "text": [
      "The list of cubes that are divisible by 4 or 5: [8, 64, 125, 216, 512, 1000, 1728, 2744, 3375, 4096, 5832, 8000, 10648, 13824, 15625, 17576, 21952, 27000, 32768, 39304, 42875, 46656, 54872, 64000, 74088, 85184, 91125, 97336, 110592, 125000, 140608, 157464, 166375, 175616, 195112, 216000, 238328, 262144, 274625, 287496, 314432, 343000, 373248, 405224, 421875, 438976, 474552, 512000, 551368, 592704, 614125, 636056, 681472, 729000, 778688, 830584, 857375, 884736, 941192, 1000000]\n"
     ]
    }
   ],
   "source": [
    "cube_list = []\n",
    "i = 1\n",
    "while i <= 100:\n",
    "    cube = i**3\n",
    "    if cube % 4 == 0 or cube % 5 == 0:\n",
    "        cube_list.append(cube)\n",
    "    i += 1\n",
    "\n",
    "print(\"The list of cubes that are divisible by 4 or 5:\", cube_list)\n"
   ]
  },
  {
   "cell_type": "markdown",
   "id": "25f87c66-4c0d-466f-a041-509638432f55",
   "metadata": {},
   "source": [
    "Q(5)-Write a program to filter count vowels in the below-given string.\n",
    "string = \"I want to become a data scientist\""
   ]
  },
  {
   "cell_type": "markdown",
   "id": "970e3650-e089-4604-a773-b5834e2a9660",
   "metadata": {},
   "source": [
    "Ans(5): vowels are \"aeiouAEIOU\""
   ]
  },
  {
   "cell_type": "code",
   "execution_count": 11,
   "id": "58d290b5-2561-4142-9fd9-e6fcba6128ea",
   "metadata": {},
   "outputs": [
    {
     "name": "stdout",
     "output_type": "stream",
     "text": [
      "The number of vowels in the string is: 12\n"
     ]
    }
   ],
   "source": [
    "string = \"I want to become a data scientist\"\n",
    "vowels = \"aeiouAEIOU\"\n",
    "count = 0\n",
    "\n",
    "for char in string:\n",
    "    if char in vowels:\n",
    "        count += 1\n",
    "\n",
    "print(\"The number of vowels in the string is:\", count)\n"
   ]
  },
  {
   "cell_type": "code",
   "execution_count": null,
   "id": "8efd93e6-00b8-4d95-890b-2bbbfb17e096",
   "metadata": {},
   "outputs": [],
   "source": []
  }
 ],
 "metadata": {
  "kernelspec": {
   "display_name": "Python 3 (ipykernel)",
   "language": "python",
   "name": "python3"
  },
  "language_info": {
   "codemirror_mode": {
    "name": "ipython",
    "version": 3
   },
   "file_extension": ".py",
   "mimetype": "text/x-python",
   "name": "python",
   "nbconvert_exporter": "python",
   "pygments_lexer": "ipython3",
   "version": "3.10.8"
  }
 },
 "nbformat": 4,
 "nbformat_minor": 5
}
